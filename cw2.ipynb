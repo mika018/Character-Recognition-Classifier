{
 "cells": [
  {
   "cell_type": "code",
   "execution_count": 1,
   "metadata": {
    "collapsed": false
   },
   "outputs": [
    {
     "name": "stdout",
     "output_type": "stream",
     "text": [
      "(400, 640)\n",
      "V:\n",
      "7.85827646186\n",
      "7.90952926689\n",
      "7.98707230247\n",
      "7.96786903273\n",
      "7.86237124503\n",
      "7.97412921714\n",
      "7.64548003527\n",
      "7.83404573423\n",
      "7.97129740689\n",
      "\n"
     ]
    }
   ],
   "source": [
    "# for python 2 compatibility #\n",
    "from __future__ import print_function\n",
    "#                            #\n",
    "import numpy as np\n",
    "from skimage import io\n",
    "import matplotlib.pyplot as plt\n",
    "# %matplotlib inline\n",
    "\n",
    "letter_list = ['S', 'T', 'V']\n",
    "k_number_of_images = 10\n",
    "# get dummy image\n",
    "avg_img = io.imread('S1.GIF')\n",
    "\n",
    "# convert to np.array so that we can compute the average  \n",
    "avg_img_array = np.array(avg_img, dtype=float)\n",
    "print(avg_img_array.shape)\n",
    "\n",
    "\n",
    "# 640 x 400 pixels\n",
    "for letter in letter_list[2]:\n",
    "    # reset np.array\n",
    "    avg_img_array.fill(0)\n",
    "    print(letter + \":\")\n",
    "    for image_index in range(1, k_number_of_images):\n",
    "        image_name = letter + str(image_index) + '.GIF'\n",
    "        f = io.imread(image_name)   # read in image\n",
    "\n",
    "        f_f = np.array(f, dtype=float)\n",
    "        z = np.fft.fft2(f_f)           # do fourier transform\n",
    "        q = np.fft.fftshift(z)         # puts u=0,v=0 in the centre\n",
    "\n",
    "        Magq =  np.absolute(q)         # magnitude spectrum\n",
    "        log_Magq = np.log(Magq + 1)\n",
    "        log_Magq_array = np.array(log_Magq, dtype=float)\n",
    "        \n",
    "        for idx, pixel in enumerate(log_Magq_array):\n",
    "            avg_img_array[idx] += pixel\n",
    "        \n",
    "        \n",
    "        Phaseq = np.angle(q)           # phase spectrum\n",
    "\n",
    "        image_avg_pixel_val = np.mean(log_Magq)\n",
    "        print(image_avg_pixel_val)\n",
    "        \n",
    "    avg_img_array /= k_number_of_images\n",
    "    \n",
    "    print()\n",
    "\n",
    "fig1 = plt.figure()\n",
    "ax1  = fig1.add_subplot( 111 )\n",
    "ax1.axis('off')\n",
    "# Usually for viewing purposes:b\n",
    "ax1.imshow( avg_img_array, cmap='gray' ) # io.\n",
    "\n",
    "# fig1 = plt.figure()\n",
    "# ax1  = fig1.add_subplot( 111 )\n",
    "# ax1.axis('off')\n",
    "# Usually for viewing purposes:\n",
    "# ax1.imshow( np.log( np.absolute(q) + 1 ), cmap='gray' ) # io.\n",
    "\n",
    "# w = np.fft.ifft2( np.fft.ifftshift(q) ) # do inverse fourier transform\n",
    "#\n",
    "# fig2 = plt.figure()\n",
    "# ax2  = fig2.add_subplot( 111 )\n",
    "# ax2.axis('off')\n",
    "# ax2.imshow( np.array(w,dtype=int), cmap='gray' ) # io.\n",
    "\n",
    "plt.show()"
   ]
  },
  {
   "cell_type": "code",
   "execution_count": 27,
   "metadata": {
    "collapsed": false
   },
   "outputs": [
    {
     "name": "stdout",
     "output_type": "stream",
     "text": [
      "400 640\n",
      "(200, 320)\n",
      "(190, 310)\n",
      "(210, 330)\n"
     ]
    }
   ],
   "source": [
    "def box_filter( image_array, height, width, inner_height, inner_width ):\n",
    "    filter_image_array = np.array(image_array, dtype=float)\n",
    "    filter_image_array.fill(0)\n",
    "    rows = image_array.shape[0]\n",
    "    cols = image_array.shape[1]\n",
    "    print(rows, cols)\n",
    "    center = ( int(rows / 2), int(cols / 2) )\n",
    "    top_left     = ( center[0] - int(height / 2), center[1] - int(width / 2) )\n",
    "    bottom_right = ( center[0] + int(height / 2), center[1] + int(width / 2) )\n",
    "    \n",
    "    inner_top_left     = ( center[0] - int(inner_height / 2), center[1] - int(inner_width / 2) )\n",
    "    inner_bottom_right = ( center[0] + int(inner_height / 2), center[1] + int(inner_width / 2) )\n",
    "\n",
    "    for row in range(rows):\n",
    "        if not (top_left[0] <= row and row <= bottom_right[0]):\n",
    "            continue\n",
    "        for col in range(cols):\n",
    "            if top_left[1] <= col and col <= bottom_right[1]:\n",
    "                if not (inner_top_left[1] <= col and col <= inner_bottom_right[1]) \\\n",
    "                    or (not (inner_top_left[0] <= row and row <= inner_bottom_right[0])):\n",
    "                        filter_image_array[row][col] = True\n",
    "                   \n",
    "    fig1 = plt.figure()\n",
    "    ax1  = fig1.add_subplot( 111 )\n",
    "    ax1.axis('off')\n",
    "    # Usually for viewing purposes:b\n",
    "    ax1.imshow( filter_image_array, cmap='gray' ) # io.\n",
    "    plt.show()\n",
    "    \n",
    "\n",
    "box_filter( avg_img_array, 150, 30, 20, 20 )"
   ]
  }
 ],
 "metadata": {
  "kernelspec": {
   "display_name": "Python 3",
   "language": "python",
   "name": "python3"
  },
  "language_info": {
   "codemirror_mode": {
    "name": "ipython",
    "version": 3
   },
   "file_extension": ".py",
   "mimetype": "text/x-python",
   "name": "python",
   "nbconvert_exporter": "python",
   "pygments_lexer": "ipython3",
   "version": "3.5.2"
  }
 },
 "nbformat": 4,
 "nbformat_minor": 0
}
